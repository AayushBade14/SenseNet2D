{
  "cells": [
    {
      "cell_type": "code",
      "execution_count": null,
      "metadata": {
        "colab": {
          "base_uri": "https://localhost:8080/"
        },
        "id": "6BLRI907hrDJ",
        "outputId": "72e8d307-d1ce-44ef-bb9c-c2f1e5c9c31e"
      },
      "outputs": [],
      "source": []
    },
    {
      "cell_type": "code",
      "execution_count": null,
      "metadata": {
        "id": "MeqvfyjAjlxf"
      },
      "outputs": [],
      "source": []
    },
    {
      "cell_type": "code",
      "execution_count": null,
      "metadata": {
        "id": "JUg2IUuhjo2e"
      },
      "outputs": [],
      "source": []
    },
    {
      "cell_type": "code",
      "execution_count": null,
      "metadata": {
        "id": "Tym6P3qQHBg2"
      },
      "outputs": [],
      "source": []
    },
    {
      "cell_type": "code",
      "execution_count": null,
      "metadata": {
        "id": "7cFzs-3XHrG_"
      },
      "outputs": [],
      "source": []
    },
    {
      "cell_type": "code",
      "execution_count": null,
      "metadata": {
        "colab": {
          "base_uri": "https://localhost:8080/",
          "height": 389
        },
        "id": "HU-PPhbcHvgT",
        "outputId": "cb0b77a3-bf4d-487d-a597-d4687253b8ca"
      },
      "outputs": [],
      "source": []
    },
    {
      "cell_type": "code",
      "execution_count": null,
      "metadata": {
        "id": "09BLZPYZHybo"
      },
      "outputs": [],
      "source": []
    },
    {
      "cell_type": "code",
      "execution_count": null,
      "metadata": {
        "colab": {
          "base_uri": "https://localhost:8080/"
        },
        "id": "hkwNg1Yngrr3",
        "outputId": "1346243b-ed61-4609-b8fe-94b85abd869d"
      },
      "outputs": [],
      "source": []
    },
    {
      "cell_type": "code",
      "execution_count": null,
      "metadata": {
        "colab": {
          "base_uri": "https://localhost:8080/"
        },
        "id": "ZW5f8Usvg_ic",
        "outputId": "07ad4c8c-6e92-455d-ee9b-9260964a9727"
      },
      "outputs": [],
      "source": []
    },
    {
      "cell_type": "code",
      "execution_count": null,
      "metadata": {
        "colab": {
          "base_uri": "https://localhost:8080/"
        },
        "id": "E8HB0n_PhZPh",
        "outputId": "9142f614-c8ac-4e8e-da5c-06cd061eb3ee"
      },
      "outputs": [],
      "source": []
    },
    {
      "cell_type": "code",
      "execution_count": 10,
      "metadata": {
        "colab": {
          "base_uri": "https://localhost:8080/"
        },
        "id": "XLksF9QqiHBV",
        "outputId": "476dcaf4-e4f6-43cb-bfe4-8d9b4f023230"
      },
      "outputs": [
        {
          "name": "stdout",
          "output_type": "stream",
          "text": [
            " Starting fast training loop...\n",
            "\n",
            " [1/9] Training C=0.1, gamma=0.01\n",
            " Done! Accuracy: 52.26% | Time: 57.40s\n",
            "\n",
            " [2/9] Training C=0.1, gamma=0.1\n",
            " Done! Accuracy: 42.18% | Time: 106.67s\n",
            "\n",
            " [3/9] Training C=0.1, gamma=1\n",
            " Done! Accuracy: 41.72% | Time: 118.67s\n",
            "\n",
            " [4/9] Training C=1, gamma=0.01\n",
            " Done! Accuracy: 55.44% | Time: 57.41s\n",
            "\n",
            " [5/9] Training C=1, gamma=0.1\n",
            " Done! Accuracy: 43.66% | Time: 138.81s\n",
            "\n",
            " [6/9] Training C=1, gamma=1\n",
            " Done! Accuracy: 42.30% | Time: 151.12s\n",
            "\n",
            " [7/9] Training C=10, gamma=0.01\n",
            " Done! Accuracy: 50.00% | Time: 192.57s\n",
            "\n",
            " [8/9] Training C=10, gamma=0.1\n",
            " Done! Accuracy: 43.76% | Time: 176.87s\n",
            "\n",
            " [9/9] Training C=10, gamma=1\n",
            " Done! Accuracy: 42.32% | Time: 231.37s\n",
            "\n",
            " Best Accuracy: 55.44%\n",
            " Best Parameters: C = 1, gamma = 0.01\n",
            " Model saved as 'svm_model.pkl'\n"
          ]
        }
      ],
      "source": [
        "import pandas as pd\n",
        "import pickle\n",
        "import time\n",
        "from sklearn.model_selection import train_test_split\n",
        "from sklearn.feature_extraction.text import TfidfVectorizer\n",
        "from sklearn.preprocessing import LabelEncoder, StandardScaler\n",
        "from sklearn.svm import SVC\n",
        "from sklearn.metrics import accuracy_score\n",
        "\n",
        "# Step 1: Load and reduce dataset\n",
        "df = pd.read_csv(\"/content/train.csv\", encoding=\"ISO-8859-1\")\n",
        "\n",
        "df = df[['text', 'sentiment']].dropna()\n",
        "df = df.sample(n=25000, random_state=42)  #  \n",
        "\n",
        "# Step 2: Preprocessing\n",
        "X_raw = df['text']\n",
        "y_raw = df['sentiment']\n",
        "\n",
        "label_encoder = LabelEncoder()\n",
        "y = label_encoder.fit_transform(y_raw)\n",
        "\n",
        "# Step 3: TF-IDF vectorization with limited features\n",
        "vectorizer = TfidfVectorizer(max_features=100)  #  limit features\n",
        "X = vectorizer.fit_transform(X_raw).toarray()\n",
        "\n",
        "# Step 4: Scale features\n",
        "scaler = StandardScaler()\n",
        "X = scaler.fit_transform(X)\n",
        "\n",
        "# Step 5: Train-test split\n",
        "X_train, X_test, y_train, y_test = train_test_split(X, y, test_size=0.2, random_state=42)\n",
        "\n",
        "# Step 6: Try a few C/gamma combinations (RBF or linear kernel)\n",
        "C_values = [0.1, 1, 10]\n",
        "gamma_values = [0.01, 0.1,1]\n",
        "total = len(C_values) * len(gamma_values)\n",
        "count = 0\n",
        "best_accuracy = 0\n",
        "best_model = None\n",
        "best_params = {}\n",
        "\n",
        "print(\" Starting fast training loop...\\n\")\n",
        "\n",
        "# Step 7: Training loop\n",
        "for C in C_values:\n",
        "    for gamma in gamma_values:\n",
        "        count += 1\n",
        "        print(f\" [{count}/{total}] Training C={C}, gamma={gamma}\")\n",
        "        start = time.time()\n",
        "\n",
        "        model = SVC(kernel='rbf', C=C, gamma=gamma)  # change to 'linear' to go faster\n",
        "        model.fit(X_train, y_train)\n",
        "\n",
        "        y_pred = model.predict(X_test)\n",
        "        acc = accuracy_score(y_test, y_pred)\n",
        "        end = time.time()\n",
        "\n",
        "        print(f\" Done! Accuracy: {acc * 100:.2f}% | Time: {end - start:.2f}s\\n\")\n",
        "\n",
        "        if acc > best_accuracy:\n",
        "            best_accuracy = acc\n",
        "            best_model = model\n",
        "            best_params = {'C': C, 'gamma': gamma}\n",
        "\n",
        "# Step 8: Save best model\n",
        "print(\" Best Accuracy: {:.2f}%\".format(best_accuracy * 100))\n",
        "print(\" Best Parameters: C = {}, gamma = {}\".format(best_params['C'], best_params['gamma']))\n",
        "\n",
        "with open(\"svm_model.pkl\", \"wb\") as f:\n",
        "    pickle.dump({\n",
        "        'model': best_model,\n",
        "        'vectorizer': vectorizer,\n",
        "        'scaler': scaler,\n",
        "        'label_encoder': label_encoder\n",
        "    }, f)\n",
        "\n",
        "print(\" Model saved as 'svm_model.pkl'\")\n"
      ]
    },
    {
      "cell_type": "code",
      "execution_count": 16,
      "metadata": {
        "colab": {
          "base_uri": "https://localhost:8080/"
        },
        "id": "0Q3Nl126vALI",
        "outputId": "cd8c0034-1754-4645-f0cd-8d637e3632cd"
      },
      "outputs": [
        {
          "name": "stdout",
          "output_type": "stream",
          "text": [
            " Predictions: ['positive' 'negative']\n"
          ]
        }
      ],
      "source": [
        "import pickle\n",
        "\n",
        "# Load model\n",
        "with open(\"svm_model.pkl\", \"rb\") as f:\n",
        "    saved = pickle.load(f)\n",
        "\n",
        "model = saved['model']\n",
        "vectorizer = saved['vectorizer']\n",
        "scaler = saved['scaler']\n",
        "label_encoder = saved['label_encoder']\n",
        "\n",
        "# Example usage on new text\n",
        "texts = [\"Tushar is happy\", \"my name is dhruv\"]\n",
        "X_new = vectorizer.transform(texts).toarray()\n",
        "X_new_scaled = scaler.transform(X_new)\n",
        "preds = model.predict(X_new_scaled)\n",
        "labels = label_encoder.inverse_transform(preds)\n",
        "\n",
        "print(\" Predictions:\", labels)\n"
      ]
    },
    {
      "cell_type": "code",
      "execution_count": null,
      "metadata": {
        "id": "b0zif938vJig"
      },
      "outputs": [],
      "source": []
    }
  ],
  "metadata": {
    "accelerator": "GPU",
    "colab": {
      "gpuType": "T4",
      "provenance": []
    },
    "kernelspec": {
      "display_name": "Python 3",
      "name": "python3"
    },
    "language_info": {
      "name": "python"
    }
  },
  "nbformat": 4,
  "nbformat_minor": 0
}
